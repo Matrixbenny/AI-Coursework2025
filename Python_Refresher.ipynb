{
 "cells": [
  {
   "cell_type": "code",
   "execution_count": 1,
   "id": "3a215364-1404-4bdd-9ec4-837355e91931",
   "metadata": {},
   "outputs": [
    {
     "name": "stdin",
     "output_type": "stream",
     "text": [
      "Enter the number of days:  1\n"
     ]
    },
    {
     "name": "stdout",
     "output_type": "stream",
     "text": [
      "There are 86400 seconds in 1 day(s).\n"
     ]
    }
   ],
   "source": [
    "# Calculating the number of seconds in a given number of days.\n",
    "\n",
    "# User inputs number of days\n",
    "days = int(input(\"Enter the number of days: \"))\n",
    "\n",
    "# Calculating the total number of seconds.\n",
    "seconds = days * 24 * 60 * 60\n",
    "\n",
    "# Print the result.\n",
    "print(f\"There are {seconds} seconds in {days} day(s).\")"
   ]
  },
  {
   "cell_type": "code",
   "execution_count": 2,
   "id": "e485121e-f605-4567-bf66-e2768326cb0f",
   "metadata": {},
   "outputs": [
    {
     "name": "stdin",
     "output_type": "stream",
     "text": [
      "Enter the radius of the sphere:  4\n"
     ]
    },
    {
     "name": "stdout",
     "output_type": "stream",
     "text": [
      "The volume of the sphere is: 268.082573106329\n"
     ]
    }
   ],
   "source": [
    "# Question 2: Calculating the volume of a sphere.\n",
    "\n",
    "# Import the math module to use the value of pi.\n",
    "import math\n",
    "\n",
    "# User to input radius\n",
    "radius = float(input(\"Enter the radius of the sphere: \"))\n",
    "\n",
    "# Volume calculation using the formula (4/3) * pi * r^3.\n",
    "# The ** operator is used for exponentiation (r^3).\n",
    "volume = (4/3) * math.pi * (radius ** 3)\n",
    "\n",
    "# Result.\n",
    "print(f\"The volume of the sphere is: {volume}\")"
   ]
  },
  {
   "cell_type": "code",
   "execution_count": 3,
   "id": "b87e9895-efa0-4f9a-b627-900f408bcabe",
   "metadata": {},
   "outputs": [
    {
     "name": "stdin",
     "output_type": "stream",
     "text": [
      "Enter the side length of the square:  5\n"
     ]
    },
    {
     "name": "stdout",
     "output_type": "stream",
     "text": [
      "The area of the square is: 25.0\n",
      "The perimeter of the square is: 20.0\n"
     ]
    }
   ],
   "source": [
    "# Question 3: Computing the area and perimeter of a square using functions.\n",
    "\n",
    "# Area of a square calculation.\n",
    "def calculate_area(side_length):\n",
    "  # Area is side_length * side_length.\n",
    "  return side_length ** 2\n",
    "\n",
    "# Perimeter of a square calculation.\n",
    "def calculate_perimeter(side_length):\n",
    "  # Perimeter is 4 * side_length.\n",
    "  return 4 * side_length\n",
    "\n",
    "# User to input length\n",
    "try:\n",
    "  side = float(input(\"Enter the side length of the square: \"))\n",
    "\n",
    "  # Call the functions to get the area and perimeter.\n",
    "  area = calculate_area(side)\n",
    "  perimeter = calculate_perimeter(side)\n",
    "\n",
    "  # results.\n",
    "  print(f\"The area of the square is: {area}\")\n",
    "  print(f\"The perimeter of the square is: {perimeter}\")\n",
    "\n",
    "except ValueError:\n",
    "  print(\"Invalid input. Please enter a valid number.\")"
   ]
  },
  {
   "cell_type": "code",
   "execution_count": 1,
   "id": "97f966b2-8440-4c9e-9389-340465628e17",
   "metadata": {},
   "outputs": [
    {
     "name": "stdin",
     "output_type": "stream",
     "text": [
      "Enter a single character:  T\n"
     ]
    },
    {
     "name": "stdout",
     "output_type": "stream",
     "text": [
      "The character 'T' is uppercase.\n"
     ]
    }
   ],
   "source": [
    "# Question 4: Determining if a character is uppercase or lowercase using a function.\n",
    "\n",
    "def check_case(char):\n",
    "  # Check if the character is an alphabet letter.\n",
    "  if 'a' <= char <= 'z':\n",
    "    return \"lowercase\"\n",
    "  elif 'A' <= char <= 'Z':\n",
    "    return \"uppercase\"\n",
    "  else:\n",
    "    return \"not a letter\"\n",
    "\n",
    "# User to input a single character.\n",
    "char_input = input(\"Enter a single character: \")\n",
    "\n",
    "# Check if the input is a single character.\n",
    "if len(char_input) == 1:\n",
    "  result = check_case(char_input)\n",
    "  print(f\"The character '{char_input}' is {result}.\")\n",
    "else:\n",
    "  print(\"Please enter only a single character.\")"
   ]
  },
  {
   "cell_type": "code",
   "execution_count": 5,
   "id": "e4fac9ac-2b6c-47cc-bfc2-f15b6fba4ac4",
   "metadata": {},
   "outputs": [
    {
     "name": "stdout",
     "output_type": "stream",
     "text": [
      "The final value of x is: 1.0416666666666665\n"
     ]
    }
   ],
   "source": [
    "# Question 5: Converting pseudocode to a Python program.\n",
    "\n",
    "# Set initial values as per the pseudocode.\n",
    "x = 0\n",
    "y = 20\n",
    "\n",
    "# The loop continues as long as the condition (y is less than 6) is not met.\n",
    "while not (y < 6):\n",
    "  # Subtract 4 from y.\n",
    "  y = y - 4\n",
    "  \n",
    "  # Add 2/y to x.\n",
    "  # Use float division to ensure the result is not truncated.\n",
    "  x = x + (2 / y)\n",
    "\n",
    "# Show the final value of x.\n",
    "print(f\"The final value of x is: {x}\")"
   ]
  },
  {
   "cell_type": "code",
   "execution_count": 3,
   "id": "91019087-9212-415c-9a69-abd90595d986",
   "metadata": {},
   "outputs": [
    {
     "name": "stdin",
     "output_type": "stream",
     "text": [
      "Enter value #1:  2\n",
      "Enter value #2:  3\n",
      "Enter value #3:  5\n",
      "Enter value #4:  8\n",
      "Enter value #5:  0\n"
     ]
    },
    {
     "name": "stdout",
     "output_type": "stream",
     "text": [
      "The values entered are: [2.0, 3.0, 5.0, 8.0, 0.0]\n",
      "The average of the values is: 3.6\n"
     ]
    }
   ],
   "source": [
    "# Question 6: Get 5 values from a user and calculate their average.\n",
    "\n",
    "# Initialize an empty list (array) to store the values.\n",
    "values_array = []\n",
    "num_values = 5\n",
    "\n",
    "# get the user's input 5 times using for loop\n",
    "for i in range(num_values):\n",
    "  try:\n",
    "    value = float(input(f\"Enter value #{i + 1}: \"))\n",
    "    values_array.append(value)\n",
    "  except ValueError:\n",
    "    print(\"Invalid input. Please enter a number.\")\n",
    "    # Decrement i to ask for the same value again.\n",
    "    # This will ensures exactly 5 valid numbers are collected.\n",
    "    i -= 1\n",
    "\n",
    "# Checking if the list is not empty to avoid division by zero.\n",
    "if len(values_array) > 0:\n",
    "  # Calculate the sum of the values.\n",
    "  total_sum = sum(values_array)\n",
    "\n",
    "  # Calculate the average.\n",
    "  average = total_sum / len(values_array)\n",
    "\n",
    "  # Show the average.\n",
    "  print(f\"The values entered are: {values_array}\")\n",
    "  print(f\"The average of the values is: {average}\")\n",
    "else:\n",
    "  print(\"No valid values were entered.\")"
   ]
  },
  {
   "cell_type": "code",
   "execution_count": 2,
   "id": "344e103c-a168-4aa8-bfdc-dba5b38381b9",
   "metadata": {},
   "outputs": [
    {
     "name": "stdout",
     "output_type": "stream",
     "text": [
      "The absolute distinct count is: 5\n"
     ]
    }
   ],
   "source": [
    "# Question 7: Absolute Distinct Count Challenge\n",
    "\n",
    "def solution(A):\n",
    "    # Use a set for unique absolute values.\n",
    "    distinct_abs_values = set()\n",
    "    \n",
    "    # Iterate and add each number's absolute value to the set.\n",
    "    for number in A:\n",
    "        distinct_abs_values.add(abs(number))\n",
    "        \n",
    "    # The set's size is the distinct count.\n",
    "    return len(distinct_abs_values)\n",
    "\n",
    "# Example Usage:\n",
    "A = [-5, -3, -1, 0, 3, 6]\n",
    "result = solution(A)\n",
    "print(f\"The absolute distinct count is: {result}\")"
   ]
  }
 ],
 "metadata": {
  "kernelspec": {
   "display_name": "Python 3 (ipykernel)",
   "language": "python",
   "name": "python3"
  },
  "language_info": {
   "codemirror_mode": {
    "name": "ipython",
    "version": 3
   },
   "file_extension": ".py",
   "mimetype": "text/x-python",
   "name": "python",
   "nbconvert_exporter": "python",
   "pygments_lexer": "ipython3",
   "version": "3.13.5"
  }
 },
 "nbformat": 4,
 "nbformat_minor": 5
}
